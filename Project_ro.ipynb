{
 "cells": [
  {
   "cell_type": "markdown",
   "id": "e0761101-e57f-4442-9c74-456fdb03c8a5",
   "metadata": {},
   "source": [
    "# ***Resolution of the agriculture-related problem using PuLP***"
   ]
  },
  {
   "cell_type": "code",
   "execution_count": 1,
   "id": "7f57a0cf-b786-4ad6-8551-1663aff25de1",
   "metadata": {},
   "outputs": [
    {
     "name": "stdout",
     "output_type": "stream",
     "text": [
      "Requirement already satisfied: pulp in c:\\users\\khali\\appdata\\local\\programs\\python\\python310\\lib\\site-packages (2.7.0)\n",
      "Note: you may need to restart the kernel to use updated packages.\n"
     ]
    },
    {
     "name": "stderr",
     "output_type": "stream",
     "text": [
      "\n",
      "[notice] A new release of pip available: 22.3.1 -> 23.1.2\n",
      "[notice] To update, run: python.exe -m pip install --upgrade pip\n"
     ]
    }
   ],
   "source": [
    "pip install pulp"
   ]
  },
  {
   "cell_type": "code",
   "execution_count": 2,
   "id": "129baffb-d1ee-4c50-bfe6-a88bbfe9e3fe",
   "metadata": {},
   "outputs": [
    {
     "name": "stdout",
     "output_type": "stream",
     "text": [
      "Statut: Optimal\n",
      "Solution optimal :\n",
      "x = 40.0\n",
      "y = 110.0\n",
      "Optimal objective value: 260000.0\n"
     ]
    }
   ],
   "source": [
    "from pulp import *\n",
    "\n",
    "# ecrire probleme LP\n",
    "prob = LpProblem(\"MyLPProblem\", LpMaximize)\n",
    "\n",
    "# ecrire les variables de decision\n",
    "x = LpVariable(\"x\", lowBound=0)\n",
    "y = LpVariable(\"y\", lowBound=0)\n",
    "\n",
    "# ecrire la fonction objective\n",
    "prob += 1000 * x + 2000 * y\n",
    "\n",
    "# ajouter les constraints\n",
    "prob += 1 * x + 1 * y <= 150\n",
    "prob += 4 * x + 2 * y <= 440\n",
    "prob += 1 * x + 4 * y <= 480\n",
    "prob += 1 * x <= 90\n",
    "\n",
    "# resolution du probleme LP\n",
    "prob.solve()\n",
    "\n",
    "# Print statut solution \n",
    "print(\"Statut:\", LpStatus[prob.status])\n",
    "\n",
    "# Print les valeurs optimale les variables de decisions \n",
    "print(\"Solution optimal :\")\n",
    "for v in prob.variables():\n",
    "    print(v.name, \"=\", v.varValue)\n",
    "\n",
    "# Print la valeur optimale de la fonction objective \n",
    "print(\"Optimal objective value:\", value(prob.objective))\n"
   ]
  }
 ],
 "metadata": {
  "kernelspec": {
   "display_name": "Python 3 (ipykernel)",
   "language": "python",
   "name": "python3"
  },
  "language_info": {
   "codemirror_mode": {
    "name": "ipython",
    "version": 3
   },
   "file_extension": ".py",
   "mimetype": "text/x-python",
   "name": "python",
   "nbconvert_exporter": "python",
   "pygments_lexer": "ipython3",
   "version": "3.10.8"
  }
 },
 "nbformat": 4,
 "nbformat_minor": 5
}
